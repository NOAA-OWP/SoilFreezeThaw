{
 "cells": [
  {
   "cell_type": "markdown",
   "metadata": {},
   "source": [
    "## Frozen Soil Model \n",
    "### Using Freezing-point depression model (temperature and water content dependent) for phase partitioning\n",
    "### Using Crank-Nicolson scheme to solve Diffusion Equation\n",
    "\n",
    "#### Algorithm \n",
    "* Get initial Soil Temperature and Soil Moisture (Total and liquid moisture content) profiles\n",
    "* Call PhaseChange method, using freezing-point depression equation, to partitioin total water content into liquid and ice\n",
    "* Soil heat capacity is updated inside PhaseChange using current timestep liquid/ice contents\n",
    "* Thermal conductivities are computed at the end of the timestep for the next timestep\n",
    "\n",
    "#### Problem description"
   ]
  },
  {
   "cell_type": "code",
   "execution_count": 1,
   "metadata": {},
   "outputs": [],
   "source": [
    "import numpy as np\n",
    "from matplotlib import pyplot as plt\n",
    "import matplotlib.animation as animation\n",
    "from matplotlib.animation import FuncAnimation, PillowWriter \n",
    "import pandas as pd\n",
    "import imageio, re\n",
    "import json, os\n",
    "import frozensoil as FS\n"
   ]
  },
  {
   "cell_type": "markdown",
   "metadata": {},
   "source": [
    "### Create an object/instance of the model, a configuration file is provided which is later used in the initialized step to initialize the state of the model at time t = 0"
   ]
  },
  {
   "cell_type": "code",
   "execution_count": 2,
   "metadata": {},
   "outputs": [],
   "source": [
    "fs = FS.FrozenSoil('./configs/config.json')"
   ]
  },
  {
   "cell_type": "code",
   "execution_count": null,
   "metadata": {},
   "outputs": [],
   "source": []
  },
  {
   "cell_type": "markdown",
   "metadata": {},
   "source": [
    "### Initialize the state of the model at the initial time, sets all the variables needed for phase partition and heat equation"
   ]
  },
  {
   "cell_type": "code",
   "execution_count": 3,
   "metadata": {},
   "outputs": [],
   "source": [
    "fs.initialize()"
   ]
  },
  {
   "cell_type": "markdown",
   "metadata": {},
   "source": [
    "### All set for running the model and advancing the timestep. The forcing data (time series), if provided, will be used and the corresponding variables will be updated each time step at the model advancement stage"
   ]
  },
  {
   "cell_type": "code",
   "execution_count": 4,
   "metadata": {},
   "outputs": [],
   "source": [
    "#set top surface temperature, if boundary condition is not set here, the default is -12 C\n",
    "cycles = fs.get_NTsteps()\n",
    "bc = np.ones(cycles)*260\n",
    "for i,b in enumerate(bc):\n",
    "    if i > 3600:\n",
    "        bc[i] = 285\n",
    "fs.set_surface_bc(bc)"
   ]
  },
  {
   "cell_type": "code",
   "execution_count": 5,
   "metadata": {},
   "outputs": [],
   "source": [
    "#fs.run_model()\n",
    "fs.run_model_forcing()"
   ]
  },
  {
   "cell_type": "markdown",
   "metadata": {},
   "source": [
    "### DONE, and data ready for post-processing. Here, the BMI solution of the frozen soil model is used as an example. \n",
    "### Solution format: 0: time [s], 1: soil temperature [K], 2: liquid water [-], 3: total soil moisture [-]"
   ]
  },
  {
   "cell_type": "code",
   "execution_count": null,
   "metadata": {},
   "outputs": [],
   "source": [
    "solution = fs.get_solution()"
   ]
  },
  {
   "cell_type": "code",
   "execution_count": null,
   "metadata": {},
   "outputs": [],
   "source": [
    "solution[1]"
   ]
  },
  {
   "cell_type": "code",
   "execution_count": null,
   "metadata": {},
   "outputs": [],
   "source": []
  },
  {
   "cell_type": "markdown",
   "metadata": {},
   "source": [
    "### Postprocessing (Visualization, comparison etc.) \n",
    "### Get animated figure of freeze-thaw simulation"
   ]
  },
  {
   "cell_type": "code",
   "execution_count": null,
   "metadata": {},
   "outputs": [],
   "source": [
    "# Example: Comparison against frozen soil run through BMI\n",
    "\n",
    "# user defined path\n",
    "out_dir = '/Users/ahmadjan/Core/SimulationsData/postprocessing/frozensoil/'\n",
    "\n",
    "#BMI simulated data\n",
    "bmi_datafile='/Users/ahmadjan/codes/bmi/bmi-frozensoil/_build/testing/bmifrozensoilcxx.out'\n",
    "\n",
    "out_path= os.path.join(out_dir,'comp_tmp1') #processed data (images, movie clip) will be stored here\n",
    "out_path"
   ]
  },
  {
   "cell_type": "code",
   "execution_count": null,
   "metadata": {},
   "outputs": [],
   "source": [
    "\n",
    "Z = fs.get_Z()\n",
    "A = solution\n",
    "cycles"
   ]
  },
  {
   "cell_type": "code",
   "execution_count": null,
   "metadata": {},
   "outputs": [],
   "source": [
    "# Read BMI simulation data\n",
    "BMI_ST = []\n",
    "BMI_Water =[]\n",
    "BMI_Time = []\n",
    "BMI_Ice = []\n",
    "nz = len(Z)\n",
    "count = 0\n",
    "with open(bmi_datafile,'r') as file:\n",
    "    for f in file.readlines()[9:]:\n",
    "        sp = f.split()\n",
    "        if \"Time\" in f:\n",
    "            BMI_Time.append(float(sp[2]))\n",
    "        elif ('Final' not in f and len(sp) == 3):\n",
    "            BMI_ST.append(float(sp[0][:-1]))\n",
    "            BMI_Water.append(float(sp[1][:-1]))\n",
    "            BMI_Ice.append(float(sp[2]))\n",
    "            count = count + 1\n",
    "\n",
    "bmiST = np.reshape(np.array(BMI_ST), (-1,nz))\n",
    "bmiW = np.reshape(np.array(BMI_Water), (-1,nz))\n",
    "bmiIce = np.reshape(np.array(BMI_Ice), (-1,nz))\n"
   ]
  },
  {
   "cell_type": "code",
   "execution_count": null,
   "metadata": {},
   "outputs": [],
   "source": []
  },
  {
   "cell_type": "code",
   "execution_count": null,
   "metadata": {},
   "outputs": [],
   "source": [
    "for i in range(0,cycles+1,12):\n",
    "    fig, axs = plt.subplots(1,2,figsize=(10,6))\n",
    "    #\n",
    "    axs[0].plot(bmiST[i],Z,color='r',label='Soil T (BMI)')\n",
    "    axs[0].plot(A[i][1],Z,color='k',linestyle='dashed',label='Soil T (Python)')\n",
    "    axs[0].vlines(bmiST[0],ymin=0,ymax=7,color='grey',label='Initial ST',linestyle='dotted')\n",
    "    axs[0].set_xlabel('Soil temperature [K]',fontsize=12)\n",
    "    \n",
    "    axs[1].plot(bmiW[i],Z,color='b',label='Liquid')\n",
    "    axs[1].plot(bmiIce[i],Z,color='g',label='Ice')\n",
    "    axs[1].plot(A[i][2],Z,color='k',linestyle='dashed',label='Liquid (Python)')\n",
    "    axs[1].plot(bmiW[0],Z,color='grey',label='Initial SMC',linestyle='dotted')\n",
    "    \n",
    "    axs[1].set_xlabel('Soil moisture [K]',fontsize=12)\n",
    "    axs[0].text(262.5, 5., 'Time = %s [d]'%(BMI_Time[i]/(3600.*24)), fontsize=12, color=\"green\")\n",
    "\n",
    "    axs[0].set_xlim(260,285.1)\n",
    "    axs[1].set_xlim(-0.01,0.5)\n",
    "    \n",
    "    for j in range(2):\n",
    "        axs[j].set_ylim(0.,6.9)\n",
    "        axs[j].invert_yaxis()\n",
    "        axs[j].xaxis.set_tick_params(labelsize=12)\n",
    "        axs[j].yaxis.set_tick_params(labelsize=12)\n",
    "        axs[0].set_ylabel('Depth [m]',fontsize=12)\n",
    "        axs[0].legend(loc = 'lower left',labelspacing=.2,fontsize=10)\n",
    "        axs[1].legend(loc = 'lower center',labelspacing=.1,fontsize=10)\n",
    "    plt.savefig(out_path + '/fig-%s.png'%(BMI_Time[i]/3600.),dpi=100)\n",
    "    plt.close()"
   ]
  },
  {
   "cell_type": "code",
   "execution_count": null,
   "metadata": {},
   "outputs": [],
   "source": []
  },
  {
   "cell_type": "code",
   "execution_count": null,
   "metadata": {},
   "outputs": [],
   "source": [
    "\n",
    "images = []\n",
    "def sorted_nicely( l ):\n",
    "    convert = lambda text: int(text) if text.isdigit() else text\n",
    "    alphanum_key = lambda key: [convert(c) for c in re.split('([0-9]+)', key)]\n",
    "    return sorted(l, key = alphanum_key)\n",
    "print(out_path)\n",
    "dir_files = os.listdir(out_path)\n",
    "\n",
    "Files = sorted_nicely(dir_files)\n",
    "Files = [f for f in Files if f.endswith('.png')]\n",
    "print (len(dir_files), Files[:3])\n",
    "\n",
    "for filename in Files:\n",
    "    images.append(imageio.imread(os.path.join(out_path,filename)))\n",
    "imageio.mimsave(out_path+'/sim_clip.gif', images)"
   ]
  },
  {
   "cell_type": "code",
   "execution_count": null,
   "metadata": {},
   "outputs": [],
   "source": []
  },
  {
   "cell_type": "code",
   "execution_count": null,
   "metadata": {},
   "outputs": [],
   "source": []
  }
 ],
 "metadata": {
  "kernelspec": {
   "display_name": "Python 3",
   "language": "python",
   "name": "python3"
  },
  "language_info": {
   "codemirror_mode": {
    "name": "ipython",
    "version": 3
   },
   "file_extension": ".py",
   "mimetype": "text/x-python",
   "name": "python",
   "nbconvert_exporter": "python",
   "pygments_lexer": "ipython3",
   "version": "3.8.8"
  }
 },
 "nbformat": 4,
 "nbformat_minor": 1
}
